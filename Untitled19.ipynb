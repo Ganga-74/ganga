{
  "nbformat": 4,
  "nbformat_minor": 0,
  "metadata": {
    "colab": {
      "provenance": []
    },
    "kernelspec": {
      "name": "python3",
      "display_name": "Python 3"
    },
    "language_info": {
      "name": "python"
    }
  },
  "cells": [
    {
      "cell_type": "code",
      "execution_count": 6,
      "metadata": {
        "colab": {
          "base_uri": "https://localhost:8080/"
        },
        "id": "LarActzpb3o-",
        "outputId": "daa2eb9e-964f-4c50-e23e-8d05c7be63ca"
      },
      "outputs": [
        {
          "output_type": "stream",
          "name": "stdout",
          "text": [
            "   R&D Spend  Administration  Marketing Spend     Profit\n",
            "0  165349.20       136897.80        471784.10  192261.83\n",
            "1  162597.70       151377.59        443898.53  191792.06\n",
            "2  153441.51       101145.55        407934.54  191050.39\n",
            "3  144372.41       118671.85        383199.62  182901.99\n",
            "4  142107.34        91391.77        366168.42  166187.94\n"
          ]
        }
      ],
      "source": [
        "import pandas as pd\n",
        "\n",
        "# Load the dataset\n",
        "data_path = \"/content/50_Startups.csv/\"  # Update with the actual path\n",
        "df = pd.read_csv(\"/content/50_Startups.csv\")\n",
        "\n",
        "# Display the first few rows\n",
        "print(df.head())\n"
      ]
    },
    {
      "cell_type": "code",
      "source": [
        "from sklearn.model_selection import train_test_split\n",
        "from sklearn.linear_model import LinearRegression\n",
        "from sklearn.tree import DecisionTreeRegressor\n",
        "from sklearn.ensemble import RandomForestRegressor\n",
        "from sklearn.svm import SVR\n",
        "from sklearn.preprocessing import StandardScaler\n",
        "from sklearn.metrics import mean_absolute_error, mean_squared_error, r2_score\n",
        "\n",
        "# Prepare features (X) and target (y)\n",
        "X = df[['R&D Spend', 'Administration', 'Marketing Spend']]\n",
        "y = df['Profit']\n",
        "\n",
        "# Split data into train and test sets\n",
        "X_train, X_test, y_train, y_test = train_test_split(X, y, test_size=0.2, random_state=42)\n",
        "\n",
        "# Standardize features\n",
        "scaler = StandardScaler()\n",
        "X_train_scaled = scaler.fit_transform(X_train)\n",
        "X_test_scaled = scaler.transform(X_test)\n",
        "\n",
        "# Initialize models\n",
        "linear_reg = LinearRegression()\n",
        "decision_tree_reg = DecisionTreeRegressor()\n",
        "random_forest_reg = RandomForestRegressor()\n",
        "svm_reg = SVR()\n",
        "\n",
        "# Fit models\n",
        "linear_reg.fit(X_train_scaled, y_train)\n",
        "decision_tree_reg.fit(X_train_scaled, y_train)\n",
        "random_forest_reg.fit(X_train_scaled, y_train)\n",
        "svm_reg.fit(X_train_scaled, y_train)\n",
        "\n",
        "# Make predictions\n",
        "y_pred_linear = linear_reg.predict(X_test_scaled)\n",
        "y_pred_tree = decision_tree_reg.predict(X_test_scaled)\n",
        "y_pred_rf = random_forest_reg.predict(X_test_scaled)\n",
        "y_pred_svm = svm_reg.predict(X_test_scaled)\n",
        "\n",
        "# Evaluate models\n",
        "print(\"Linear Regression:\")\n",
        "print(\"MAE:\", mean_absolute_error(y_test, y_pred_linear))\n",
        "print(\"MSE:\", mean_squared_error(y_test, y_pred_linear))\n",
        "print(\"RMSE:\", mean_squared_error(y_test, y_pred_linear, squared=False))\n",
        "print(\"R-squared:\", r2_score(y_test, y_pred_linear))\n",
        "# Repeat similar evaluation for other models\n",
        "# ...\n",
        "\n",
        "# Choose the best model based on metrics\n",
        "# (Select the one with lowest MAE, MSE, and highest R-squared)\n"
      ],
      "metadata": {
        "colab": {
          "base_uri": "https://localhost:8080/"
        },
        "id": "3jYLbDSkciLx",
        "outputId": "a4842583-d7c3-49bf-857f-a74b0743e2ca"
      },
      "execution_count": 7,
      "outputs": [
        {
          "output_type": "stream",
          "name": "stdout",
          "text": [
            "Linear Regression:\n",
            "MAE: 6979.152252370402\n",
            "MSE: 80926321.22295156\n",
            "RMSE: 8995.905803361413\n",
            "R-squared: 0.9000653083037321\n"
          ]
        }
      ]
    }
  ]
}